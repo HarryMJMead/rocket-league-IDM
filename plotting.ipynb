{
 "cells": [
  {
   "cell_type": "code",
   "execution_count": 1,
   "metadata": {},
   "outputs": [],
   "source": [
    "import torch\n",
    "import torch.nn as nn\n",
    "import torch.nn.functional as F\n",
    "from torch.distributions.categorical import Categorical\n",
    "from torch.utils.data import Dataset, DataLoader\n",
    "from torch.optim import Adam\n",
    "from torch.optim.lr_scheduler import ExponentialLR\n",
    "import numpy as np\n",
    "import wandb\n",
    "import os\n",
    "import random\n",
    "from time import time\n",
    "import matplotlib.pyplot as plt\n",
    "\n",
    "from lib.data import EpisodeDataset, EpisodeDataset_Unmodified\n",
    "from lib.neural_networks import FullyConnected_Continuous"
   ]
  },
  {
   "cell_type": "code",
   "execution_count": 2,
   "metadata": {},
   "outputs": [],
   "source": [
    "WIDTH = 1\n",
    "OBS_SIZE = 30 #46 is standard, 15 is minimal\n",
    "HIDDEN_SIZE = 2048\n",
    "\n",
    "INCLUDE_CHANGE = True\n",
    "CORRUPT = False"
   ]
  },
  {
   "cell_type": "code",
   "execution_count": 3,
   "metadata": {},
   "outputs": [
    {
     "name": "stdout",
     "output_type": "stream",
     "text": [
      "Loading Episode Data\n",
      "Finished Loading Episode Data\n",
      "129\n"
     ]
    }
   ],
   "source": [
    "TEST_PATH = '/data/hmead/Episode Data/Human Example Data/30 TPS'\n",
    "#TEST_PATH = '/data/hmead/Episode Data/Human Replays'\n",
    "\n",
    "test_dataset = EpisodeDataset_Unmodified([TEST_PATH], width=WIDTH, include_change=INCLUDE_CHANGE, corrupt=CORRUPT)\n",
    "print(len(test_dataset))"
   ]
  },
  {
   "cell_type": "code",
   "execution_count": 4,
   "metadata": {},
   "outputs": [],
   "source": [
    "Test_Data_Loader = DataLoader(test_dataset, batch_size=1, shuffle=False, num_workers=1)"
   ]
  },
  {
   "cell_type": "code",
   "execution_count": 5,
   "metadata": {},
   "outputs": [
    {
     "data": {
      "text/plain": [
       "FullyConnected_Continuous(\n",
       "  (linearNN): Sequential(\n",
       "    (0): Linear(in_features=60, out_features=2048, bias=True)\n",
       "    (1): ReLU()\n",
       "    (2): Linear(in_features=2048, out_features=2048, bias=True)\n",
       "    (3): ReLU()\n",
       "    (4): Linear(in_features=2048, out_features=2048, bias=True)\n",
       "    (5): ReLU()\n",
       "    (6): Linear(in_features=2048, out_features=2048, bias=True)\n",
       "    (7): ReLU()\n",
       "    (8): Linear(in_features=2048, out_features=2048, bias=True)\n",
       "    (9): ReLU()\n",
       "    (10): Linear(in_features=2048, out_features=5, bias=True)\n",
       "  )\n",
       ")"
      ]
     },
     "execution_count": 5,
     "metadata": {},
     "output_type": "execute_result"
    }
   ],
   "source": [
    "#model = ConvNet(obs_size=OBS_SIZE, obs_width=WIDTH, conv_number=10, hidden_size=HIDDEN_SIZE)\n",
    "model = FullyConnected_Continuous(obs_size=OBS_SIZE, obs_width=WIDTH, hidden_size=HIDDEN_SIZE)\n",
    "\n",
    "gpumodel = model.cuda()\n",
    "criterion = nn.MSELoss()\n",
    "\n",
    "\n",
    "gpumodel.eval()"
   ]
  },
  {
   "cell_type": "code",
   "execution_count": 6,
   "metadata": {},
   "outputs": [],
   "source": [
    "gpumodel.load_state_dict(torch.load('trained_networks/bright-butterfly-12 (30 epochs).pt'))\n",
    "action_distribution = 'continuous_IDM'"
   ]
  },
  {
   "cell_type": "code",
   "execution_count": 32,
   "metadata": {},
   "outputs": [
    {
     "data": {
      "text/plain": [
       "<All keys matched successfully>"
      ]
     },
     "execution_count": 32,
     "metadata": {},
     "output_type": "execute_result"
    }
   ],
   "source": [
    "gpumodel.load_state_dict(torch.load('trained_networks/cosmic-deluge-11 (30 epochs).pt'))\n",
    "action_distribution = 'continuous_IDM_unfiltered'"
   ]
  },
  {
   "cell_type": "code",
   "execution_count": 25,
   "metadata": {},
   "outputs": [],
   "source": [
    "CLOSE_CUTOFF = 0.5\n",
    "\n",
    "def test_model(gpumodel, Test_Data_Loader):\n",
    "    gpumodel.eval()\n",
    "\n",
    "    total_loss = 0\n",
    "    obs_count = 0\n",
    "\n",
    "    action_actual = []\n",
    "    action_pred = []\n",
    "\n",
    "    total_correct = torch.zeros(5).cuda()\n",
    "    all_errors = []\n",
    "\n",
    "    for _obs, _act, _add_data in Test_Data_Loader:\n",
    "        # EVALUATION\n",
    "        obs = _obs[0].cuda()\n",
    "        act = _act[0, :, 0:5].float().cuda()\n",
    "\n",
    "        if obs.shape[0] == 0:\n",
    "            continue\n",
    "\n",
    "        with torch.no_grad():\n",
    "            y_pred = model(obs)\n",
    "\n",
    "        loss = criterion(y_pred, act)\n",
    "\n",
    "        errors = torch.abs(y_pred - act)\n",
    "        total_correct += torch.sum(errors < CLOSE_CUTOFF, dim=0)\n",
    "        all_errors.append(errors)\n",
    "\n",
    "\n",
    "        # LOGGING\n",
    "        obs_count += len(obs)\n",
    "        total_loss += loss.item() * len(obs)\n",
    "\n",
    "        action_actual.append(act)\n",
    "        action_pred.append(y_pred)\n",
    "\n",
    "    return total_loss / obs_count, torch.cat(action_actual).cpu(), torch.cat(action_pred).cpu(), total_correct.cpu() / obs_count, torch.cat(all_errors).cpu()"
   ]
  },
  {
   "cell_type": "code",
   "execution_count": 26,
   "metadata": {},
   "outputs": [],
   "source": [
    "loss, actual, predict, correct, errors = test_model(gpumodel, Test_Data_Loader)"
   ]
  },
  {
   "cell_type": "code",
   "execution_count": 27,
   "metadata": {},
   "outputs": [
    {
     "name": "stdout",
     "output_type": "stream",
     "text": [
      "[84.3 & 95.2 & 92.8 & 95.2 & 97.1]\n"
     ]
    },
    {
     "data": {
      "image/png": "[encoded data removed]",
      "text/plain": [
       "<Figure size 640x480 with 1 Axes>"
      ]
     },
     "metadata": {},
     "output_type": "display_data"
    }
   ],
   "source": [
    "plt.hist(actual[:, 0], bins=21)\n",
    "plt.hist(torch.clip(predict[:, 0], 0, 2), bins=21)\n",
    "\n",
    "print(np.array2string(correct.numpy()*100, separator=' & ', precision=1))"
   ]
  },
  {
   "cell_type": "code",
   "execution_count": 45,
   "metadata": {},
   "outputs": [
    {
     "data": {
      "text/plain": [
       "(array([1.09603e+05, 7.72300e+03, 4.04600e+03, 2.76300e+03, 2.21600e+03,\n",
       "        2.65900e+03, 6.88100e+03, 1.40760e+04, 2.85400e+03, 1.11700e+03,\n",
       "        8.48000e+02, 7.50000e+02, 8.06000e+02, 1.09800e+03, 9.90000e+01,\n",
       "        2.70000e+01, 2.70000e+01, 1.60000e+01, 2.60000e+01, 1.50000e+01,\n",
       "        1.40000e+01]),\n",
       " array([1.19209290e-07, 7.44777098e-02, 1.48955300e-01, 2.23432884e-01,\n",
       "        2.97910482e-01, 3.72388065e-01, 4.46865648e-01, 5.21343231e-01,\n",
       "        5.95820844e-01, 6.70298398e-01, 7.44776011e-01, 8.19253564e-01,\n",
       "        8.93731177e-01, 9.68208730e-01, 1.04268634e+00, 1.11716390e+00,\n",
       "        1.19164157e+00, 1.26611912e+00, 1.34059668e+00, 1.41507423e+00,\n",
       "        1.48955190e+00, 1.56402946e+00]),\n",
       " <BarContainer object of 21 artists>)"
      ]
     },
     "execution_count": 45,
     "metadata": {},
     "output_type": "execute_result"
    },
    {
     "data": {
      "image/png": "[encoded data removed]",
      "text/plain": [
       "<Figure size 640x480 with 1 Axes>"
      ]
     },
     "metadata": {},
     "output_type": "display_data"
    }
   ],
   "source": [
    "plt.hist(errors[:, 0], bins=21)"
   ]
  },
  {
   "cell_type": "code",
   "execution_count": null,
   "metadata": {},
   "outputs": [],
   "source": [
    "save_path = 'Dataset Action Summaries'\n",
    "np.save(f'{save_path}/{action_distribution}_action_summary', predict)\n",
    "np.save(f'{save_path}/{action_distribution}_error_summary', errors)"
   ]
  }
 ],
 "metadata": {
  "kernelspec": {
   "display_name": "RLGym",
   "language": "python",
   "name": "python3"
  },
  "language_info": {
   "codemirror_mode": {
    "name": "ipython",
    "version": 3
   },
   "file_extension": ".py",
   "mimetype": "text/x-python",
   "name": "python",
   "nbconvert_exporter": "python",
   "pygments_lexer": "ipython3",
   "version": "3.9.16"
  },
  "orig_nbformat": 4
 },
 "nbformat": 4,
 "nbformat_minor": 2
}
