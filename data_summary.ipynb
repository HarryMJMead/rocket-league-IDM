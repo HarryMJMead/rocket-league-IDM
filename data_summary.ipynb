{
 "cells": [
  {
   "cell_type": "code",
   "execution_count": 2,
   "metadata": {},
   "outputs": [],
   "source": [
    "import torch\n",
    "from torch.utils.data import Dataset, DataLoader\n",
    "import os\n",
    "import numpy as np\n",
    "\n",
    "from models.data import RandomEpisodes"
   ]
  },
  {
   "cell_type": "code",
   "execution_count": 3,
   "metadata": {},
   "outputs": [
    {
     "name": "stdout",
     "output_type": "stream",
     "text": [
      "Loading Episode Data\n",
      "Finished Loading Episode Data\n"
     ]
    }
   ],
   "source": [
    "TRAIN_PATH = 'Episode_Data/30_TPS/Semi_Random_Episodes'\n",
    "new_dataset = RandomEpisodes(TRAIN_PATH)"
   ]
  },
  {
   "cell_type": "code",
   "execution_count": 4,
   "metadata": {},
   "outputs": [],
   "source": [
    "DL = DataLoader(new_dataset, batch_size=1, shuffle=False, num_workers=1)"
   ]
  },
  {
   "cell_type": "code",
   "execution_count": 5,
   "metadata": {},
   "outputs": [
    {
     "name": "stdout",
     "output_type": "stream",
     "text": [
      "tensor([[-0.6341,  0.4040,  0.8393,  ..., 17.9495, -6.4139, -1.1100],\n",
      "        [-0.6345,  0.4033,  0.8388,  ..., 16.2465, -6.1211, -1.1100],\n",
      "        [-0.6352,  0.4023,  0.8384,  ..., 14.4035, -5.7996, -1.1100],\n",
      "        ...,\n",
      "        [ 0.8073,  1.4806,  0.0186,  ..., -5.0904,  0.9167,  0.0000],\n",
      "        [ 0.8089,  1.4905,  0.0191,  ...,  7.4618,  3.9725,  0.0000],\n",
      "        [ 0.8104,  1.5003,  0.0197,  ..., -9.5245, -1.7507,  0.0000]])\n"
     ]
    }
   ],
   "source": [
    "full_state_dataset = torch.cat([obs[0] for obs, _ in DL], 0)\n",
    "print(full_state_dataset)"
   ]
  },
  {
   "cell_type": "code",
   "execution_count": 6,
   "metadata": {},
   "outputs": [
    {
     "data": {
      "text/plain": [
       "tensor([ 1.3506e-03, -3.0695e-03,  1.4636e-01,  3.0631e-03,  2.7079e-04,\n",
       "         4.7839e-02, -1.0009e-03,  6.0061e-04,  4.1559e-01,  8.2826e-04,\n",
       "         1.2328e-03, -4.7691e-02, -1.5108e-03,  5.7517e-04,  7.0324e-02,\n",
       "         3.5618e-01,  2.3871e-03,  1.0040e-03, -1.5922e-01, -1.7135e-05,\n",
       "         3.3176e-03,  2.2493e-02, -9.3408e-04, -1.2015e-03,  2.3473e-01,\n",
       "        -1.6059e-05, -4.5102e-05,  1.0602e-03,  7.5545e-04, -1.3397e-03,\n",
       "         4.6682e-02, -3.2236e-01])"
      ]
     },
     "execution_count": 6,
     "metadata": {},
     "output_type": "execute_result"
    }
   ],
   "source": [
    "torch.mean(full_state_dataset, 0)"
   ]
  },
  {
   "cell_type": "code",
   "execution_count": 7,
   "metadata": {},
   "outputs": [
    {
     "data": {
      "text/plain": [
       "tensor([ 1.0648,  1.3522,  0.2152,  0.6263,  0.6386,  0.4445,  0.4758,  0.4510,\n",
       "         0.6304,  0.2569,  0.2669,  0.1708,  0.6621,  0.6676,  0.6228,  0.3233,\n",
       "         1.0853,  1.7038,  0.6543,  4.9827,  4.9943,  5.0891,  6.6251,  6.5816,\n",
       "         6.9023,  2.1538,  2.0794,  3.4496, 21.2164, 21.5123, 13.7984,  1.8373])"
      ]
     },
     "execution_count": 7,
     "metadata": {},
     "output_type": "execute_result"
    }
   ],
   "source": [
    "torch.std(full_state_dataset, 0)"
   ]
  },
  {
   "cell_type": "code",
   "execution_count": 12,
   "metadata": {},
   "outputs": [
    {
     "data": {
      "text/plain": [
       "torch.return_types.min(\n",
       "values=tensor([  -1.7857,   -6.1251,   -1.1908,   -1.0000,   -1.0000,   -1.0000,\n",
       "          -1.0000,   -1.0000,   -1.0000,   -1.0000,   -1.0000,   -0.9994,\n",
       "          -1.7507,   -1.7507,   -1.7507,    0.0000, -295.1813, -759.1174,\n",
       "         -86.9126, -114.2656, -151.6361,  -94.0514,  -97.4120,  -95.5603,\n",
       "         -28.4697, -120.8788, -125.0731,  -76.0088, -348.6295, -349.2725,\n",
       "        -339.5832,   -1.6650]),\n",
       "indices=tensor([6049812, 5821848, 1562814, 1999371, 1458871, 3187240,  575028, 2903360,\n",
       "         995812, 3566902, 2626839,  978436,   14704,   46349, 5466757,     346,\n",
       "        5974094, 4950728, 2831145, 1385895, 1214465, 1027777, 1080775,  782332,\n",
       "         233943, 5269608, 4746878, 3721540,   96516,  603763, 1057933, 5974933]))"
      ]
     },
     "execution_count": 12,
     "metadata": {},
     "output_type": "execute_result"
    }
   ],
   "source": [
    "torch.min(full_state_dataset, 0)"
   ]
  },
  {
   "cell_type": "code",
   "execution_count": 13,
   "metadata": {},
   "outputs": [
    {
     "data": {
      "text/plain": [
       "torch.return_types.max(\n",
       "values=tensor([  2.6009,   5.8690,   0.8848,   1.0000,   1.0000,   1.0000,   1.0000,\n",
       "          1.0000,   1.0000,   0.9999,   0.9998,   0.7350,   1.7507,   1.7507,\n",
       "          1.7507,   1.0000, 293.3478, 283.1856, 120.6643, 104.7113, 188.4667,\n",
       "         98.7080, 136.3989, 116.2827, 192.5554, 106.5179, 126.9475, 126.9596,\n",
       "        347.5505, 349.2152, 335.3942, 100.0000]),\n",
       "indices=tensor([1799373,  624157, 2831103,    2646,  579575, 3221813, 3268796, 1999371,\n",
       "         579575,  572398, 2776181, 4029025,  102705,  128441, 1073803,    1218,\n",
       "        4499415, 2250516, 4950728, 3296994, 1385056, 3459985, 4951567, 5974933,\n",
       "        3754383, 3341406,  332971,  978437, 2153523, 5172638, 3624814,    1218]))"
      ]
     },
     "execution_count": 13,
     "metadata": {},
     "output_type": "execute_result"
    }
   ],
   "source": [
    "torch.max(full_state_dataset, 0)"
   ]
  }
 ],
 "metadata": {
  "kernelspec": {
   "display_name": "RLGym",
   "language": "python",
   "name": "python3"
  },
  "language_info": {
   "codemirror_mode": {
    "name": "ipython",
    "version": 3
   },
   "file_extension": ".py",
   "mimetype": "text/x-python",
   "name": "python",
   "nbconvert_exporter": "python",
   "pygments_lexer": "ipython3",
   "version": "3.8.15"
  },
  "orig_nbformat": 4,
  "vscode": {
   "interpreter": {
    "hash": "3df9f66ef513f519d9fd369e6ab5e74ea94635c8856fcc9165026ea0cd6231ef"
   }
  }
 },
 "nbformat": 4,
 "nbformat_minor": 2
}
