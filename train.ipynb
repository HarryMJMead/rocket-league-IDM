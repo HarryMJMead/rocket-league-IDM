{
 "cells": [
  {
   "cell_type": "code",
   "execution_count": 3,
   "metadata": {},
   "outputs": [],
   "source": [
    "import torch\n",
    "import torch.nn as nn\n",
    "from torch.distributions.categorical import Categorical\n",
    "from torch.utils.data import Dataset, DataLoader\n",
    "from torch.optim import Adam\n",
    "import numpy as np\n",
    "import wandb\n",
    "import os\n",
    "import random\n",
    "from time import time\n",
    "\n",
    "from models.LSTM import LSTM_Model\n",
    "from models.data import EpisodeDataset"
   ]
  },
  {
   "cell_type": "code",
   "execution_count": 6,
   "metadata": {},
   "outputs": [
    {
     "name": "stdout",
     "output_type": "stream",
     "text": [
      "Loading Episode Data\n",
      "Finished Loading Episode Data\n",
      "Loading Episode Data\n",
      "Finished Loading Episode Data\n"
     ]
    }
   ],
   "source": [
    "TRAIN_PATH = '/home/bdemoss/Documents/Episode_Data/30_TPS/Large_Obs_Nexto_Train/'\n",
    "TEST_PATH = '/home/bdemoss/Documents/Episode_Data/30_TPS/Large_Obs_Nexto_Test/'\n",
    "\n",
    "train_dataset = EpisodeDataset(TRAIN_PATH)\n",
    "test_dataset = EpisodeDataset(TEST_PATH)"
   ]
  },
  {
   "cell_type": "code",
   "execution_count": 3,
   "metadata": {},
   "outputs": [],
   "source": [
    "Train_Data_Loader = DataLoader(train_dataset, batch_size=1, shuffle=True, num_workers=8)\n",
    "Test_Data_Loader = DataLoader(test_dataset, batch_size=1, shuffle=False, num_workers=0)"
   ]
  },
  {
   "cell_type": "code",
   "execution_count": 8,
   "metadata": {},
   "outputs": [
    {
     "name": "stdout",
     "output_type": "stream",
     "text": [
      "104448\n",
      "1048576\n",
      "  2048\n",
      "  2048\n",
      "524288\n",
      "  1024\n",
      "1048576\n",
      "  1024\n",
      "1048576\n",
      "  1024\n",
      "1048576\n",
      "  1024\n",
      "1048576\n",
      "  1024\n",
      " 92160\n",
      "    90\n",
      "  2048\n",
      "     2\n",
      "  2048\n",
      "     2\n",
      "  2048\n",
      "     2\n",
      "______\n",
      "5979232\n",
      "None\n"
     ]
    }
   ],
   "source": [
    "MODEL_PATH = 'Trained Networks/120_TPS_Nexto_LSTM_5L'\n",
    "\n",
    "model = LSTM_Model(Train_Data_Loader, Test_Data_Loader)\n",
    "model.load(MODEL_PATH)"
   ]
  },
  {
   "cell_type": "code",
   "execution_count": 10,
   "metadata": {},
   "outputs": [
    {
     "data": {
      "text/html": [
       "Finishing last run (ID:z4sgcv8d) before initializing another..."
      ],
      "text/plain": [
       "<IPython.core.display.HTML object>"
      ]
     },
     "metadata": {},
     "output_type": "display_data"
    },
    {
     "data": {
      "text/html": [
       "Waiting for W&B process to finish... <strong style=\"color:green\">(success).</strong>"
      ],
      "text/plain": [
       "<IPython.core.display.HTML object>"
      ]
     },
     "metadata": {},
     "output_type": "display_data"
    },
    {
     "data": {
      "text/html": [
       "<style>\n",
       "    table.wandb td:nth-child(1) { padding: 0 10px; text-align: left ; width: auto;} td:nth-child(2) {text-align: left ; width: 100%}\n",
       "    .wandb-row { display: flex; flex-direction: row; flex-wrap: wrap; justify-content: flex-start; width: 100% }\n",
       "    .wandb-col { display: flex; flex-direction: column; flex-basis: 100%; flex: 1; padding: 10px; }\n",
       "    </style>\n",
       "<div class=\"wandb-row\"><div class=\"wandb-col\"><h3>Run history:</h3><br/><table class=\"wandb\"><tr><td>accuracy/action</td><td>▁</td></tr><tr><td>accuracy/has_flip</td><td>▁</td></tr><tr><td>accuracy/has_jump</td><td>▁</td></tr><tr><td>accuracy/on_ground</td><td>▁</td></tr><tr><td>loss</td><td>▁</td></tr></table><br/></div><div class=\"wandb-col\"><h3>Run summary:</h3><br/><table class=\"wandb\"><tr><td>accuracy/action</td><td>0.73421</td></tr><tr><td>accuracy/has_flip</td><td>0.97158</td></tr><tr><td>accuracy/has_jump</td><td>0.97092</td></tr><tr><td>accuracy/on_ground</td><td>0.9966</td></tr><tr><td>loss</td><td>15.54744</td></tr></table><br/></div></div>"
      ],
      "text/plain": [
       "<IPython.core.display.HTML object>"
      ]
     },
     "metadata": {},
     "output_type": "display_data"
    },
    {
     "data": {
      "text/html": [
       " View run <strong style=\"color:#cdcd00\">golden-rat-103</strong> at: <a href=\"https://wandb.ai/harrymead/Inverse%20Dynamics%20Model/runs/z4sgcv8d\" target=\"_blank\">https://wandb.ai/harrymead/Inverse%20Dynamics%20Model/runs/z4sgcv8d</a><br/>Synced 6 W&B file(s), 0 media file(s), 0 artifact file(s) and 0 other file(s)"
      ],
      "text/plain": [
       "<IPython.core.display.HTML object>"
      ]
     },
     "metadata": {},
     "output_type": "display_data"
    },
    {
     "data": {
      "text/html": [
       "Find logs at: <code>./wandb/run-20230124_171105-z4sgcv8d/logs</code>"
      ],
      "text/plain": [
       "<IPython.core.display.HTML object>"
      ]
     },
     "metadata": {},
     "output_type": "display_data"
    },
    {
     "data": {
      "text/html": [
       "Successfully finished last run (ID:z4sgcv8d). Initializing new run:<br/>"
      ],
      "text/plain": [
       "<IPython.core.display.HTML object>"
      ]
     },
     "metadata": {},
     "output_type": "display_data"
    },
    {
     "data": {
      "text/html": [
       "wandb version 0.13.9 is available!  To upgrade, please run:\n",
       " $ pip install wandb --upgrade"
      ],
      "text/plain": [
       "<IPython.core.display.HTML object>"
      ]
     },
     "metadata": {},
     "output_type": "display_data"
    },
    {
     "data": {
      "text/html": [
       "Tracking run with wandb version 0.13.8"
      ],
      "text/plain": [
       "<IPython.core.display.HTML object>"
      ]
     },
     "metadata": {},
     "output_type": "display_data"
    },
    {
     "data": {
      "text/html": [
       "Run data is saved locally in <code>/home/bdemoss/Documents/rocket-league-IDM/wandb/run-20230124_171240-y7anllml</code>"
      ],
      "text/plain": [
       "<IPython.core.display.HTML object>"
      ]
     },
     "metadata": {},
     "output_type": "display_data"
    },
    {
     "data": {
      "text/html": [
       "Syncing run <strong><a href=\"https://wandb.ai/harrymead/Inverse%20Dynamics%20Model/runs/y7anllml\" target=\"_blank\">brilliant-kumquat-104</a></strong> to <a href=\"https://wandb.ai/harrymead/Inverse%20Dynamics%20Model\" target=\"_blank\">Weights & Biases</a> (<a href=\"https://wandb.me/run\" target=\"_blank\">docs</a>)<br/>"
      ],
      "text/plain": [
       "<IPython.core.display.HTML object>"
      ]
     },
     "metadata": {},
     "output_type": "display_data"
    },
    {
     "data": {
      "text/html": [
       " View project at <a href=\"https://wandb.ai/harrymead/Inverse%20Dynamics%20Model\" target=\"_blank\">https://wandb.ai/harrymead/Inverse%20Dynamics%20Model</a>"
      ],
      "text/plain": [
       "<IPython.core.display.HTML object>"
      ]
     },
     "metadata": {},
     "output_type": "display_data"
    },
    {
     "data": {
      "text/html": [
       " View run at <a href=\"https://wandb.ai/harrymead/Inverse%20Dynamics%20Model/runs/y7anllml\" target=\"_blank\">https://wandb.ai/harrymead/Inverse%20Dynamics%20Model/runs/y7anllml</a>"
      ],
      "text/plain": [
       "<IPython.core.display.HTML object>"
      ]
     },
     "metadata": {},
     "output_type": "display_data"
    }
   ],
   "source": [
    "wandb.init(project=\"Inverse Dynamics Model\", entity=\"harrymead\")\n",
    "\n",
    "wandb.config = {\n",
    "  \"learning_rate\": 0.001,\n",
    "  \"epochs\": 3000,\n",
    "  \"batch_size\": 10\n",
    "}"
   ]
  },
  {
   "cell_type": "code",
   "execution_count": 11,
   "metadata": {},
   "outputs": [
    {
     "name": "stdout",
     "output_type": "stream",
     "text": [
      "Batch:  1000 , Loss:  72.33035178445608 , Rate:  11027.078491571285 , Time:  55.97665882110596\n",
      "Action Accuracy:  0.2057807176566077 On Ground Accuracy:  0.7601817065445785 Has Jump Accuracy:  0.7779975666616444 Has Flip Accuracy:  0.8137864332476319\n",
      "Batch:  2000 , Loss:  63.372165378456835 , Rate:  10783.271282594771 , Time:  112.45820641517639\n",
      "Action Accuracy:  0.30732009273671834 On Ground Accuracy:  0.8284419968606125 Has Jump Accuracy:  0.8333809495661997 Has Flip Accuracy:  0.8518002219901615\n",
      "Batch:  3000 , Loss:  58.2178963289887 , Rate:  10944.566121061274 , Time:  167.627671957016\n",
      "Action Accuracy:  0.33151263009360776 On Ground Accuracy:  0.9342261293549476 Has Jump Accuracy:  0.8817680143624668 Has Flip Accuracy:  0.8764417121014383\n",
      "Batch:  4000 , Loss:  55.95045294353747 , Rate:  11384.409459597422 , Time:  222.43631625175476\n",
      "Action Accuracy:  0.3413163192040413 On Ground Accuracy:  0.9473020360540554 Has Jump Accuracy:  0.8975033335897633 Has Flip Accuracy:  0.8896453573351796\n"
     ]
    },
    {
     "ename": "KeyboardInterrupt",
     "evalue": "",
     "output_type": "error",
     "traceback": [
      "\u001b[0;31m---------------------------------------------------------------------------\u001b[0m",
      "\u001b[0;31mKeyboardInterrupt\u001b[0m                         Traceback (most recent call last)",
      "Cell \u001b[0;32mIn[11], line 5\u001b[0m\n\u001b[1;32m      3\u001b[0m \u001b[39mfor\u001b[39;00m epoch \u001b[39min\u001b[39;00m \u001b[39mrange\u001b[39m(\u001b[39m20\u001b[39m):\n\u001b[1;32m      4\u001b[0m     start_time \u001b[39m=\u001b[39m time()\n\u001b[0;32m----> 5\u001b[0m     loss \u001b[39m=\u001b[39m model\u001b[39m.\u001b[39;49mtrain(log_results\u001b[39m=\u001b[39;49m\u001b[39mTrue\u001b[39;49;00m)\n\u001b[1;32m      9\u001b[0m     \u001b[39mprint\u001b[39m(\u001b[39m'\u001b[39m\u001b[39mEpoch: \u001b[39m\u001b[39m'\u001b[39m, epoch, \u001b[39m'\u001b[39m\u001b[39mLoss: \u001b[39m\u001b[39m'\u001b[39m, loss)\n\u001b[1;32m     10\u001b[0m     \u001b[39mif\u001b[39;00m loss \u001b[39m<\u001b[39m\u001b[39m=\u001b[39m saved_best_loss:\n",
      "File \u001b[0;32m~/Documents/rocket-league-IDM/models/LSTM.py:126\u001b[0m, in \u001b[0;36mLSTM_Model.train\u001b[0;34m(self, log_results)\u001b[0m\n\u001b[1;32m    123\u001b[0m loss\u001b[39m.\u001b[39mbackward()\n\u001b[1;32m    124\u001b[0m \u001b[39mself\u001b[39m\u001b[39m.\u001b[39moptimizer\u001b[39m.\u001b[39mstep()\n\u001b[0;32m--> 126\u001b[0m total_loss \u001b[39m+\u001b[39m\u001b[39m=\u001b[39m loss\u001b[39m.\u001b[39;49mitem()\u001b[39m*\u001b[39m\u001b[39mlen\u001b[39m(obs)\n\u001b[1;32m    127\u001b[0m obs_count \u001b[39m+\u001b[39m\u001b[39m=\u001b[39m \u001b[39mlen\u001b[39m(obs)\n\u001b[1;32m    129\u001b[0m correct \u001b[39m=\u001b[39m pred_values \u001b[39m==\u001b[39m labels\n",
      "\u001b[0;31mKeyboardInterrupt\u001b[0m: "
     ]
    }
   ],
   "source": [
    "saved_best_loss = 1000000\n",
    "\n",
    "for epoch in range(20):\n",
    "    start_time = time()\n",
    "    loss = model.train(log_results=True)\n",
    "\n",
    "    \n",
    "    print('Epoch: ', epoch, 'Loss: ', loss)\n",
    "    if loss <= saved_best_loss:\n",
    "        model.save(MODEL_PATH)\n",
    "        saved_best_loss = loss"
   ]
  },
  {
   "cell_type": "code",
   "execution_count": 12,
   "metadata": {},
   "outputs": [
    {
     "name": "stdout",
     "output_type": "stream",
     "text": [
      "Batch:  0 , Loss:  56.166204693960196 , Rate:  25637.36775889931 , Time:  0.4178285598754883\n",
      "Action Accuracy:  0.30610532 On Ground Accuracy:  0.9706871 Has Jump Accuracy:  0.9115011 Has Flip Accuracy:  0.8730396\n"
     ]
    },
    {
     "data": {
      "text/plain": [
       "56.166204693960196"
      ]
     },
     "execution_count": 12,
     "metadata": {},
     "output_type": "execute_result"
    }
   ],
   "source": [
    "model.test()"
   ]
  }
 ],
 "metadata": {
  "kernelspec": {
   "display_name": "RLGym",
   "language": "python",
   "name": "python3"
  },
  "language_info": {
   "codemirror_mode": {
    "name": "ipython",
    "version": 3
   },
   "file_extension": ".py",
   "mimetype": "text/x-python",
   "name": "python",
   "nbconvert_exporter": "python",
   "pygments_lexer": "ipython3",
   "version": "3.9.15"
  },
  "orig_nbformat": 4,
  "vscode": {
   "interpreter": {
    "hash": "baa0d24347c96f08397175d5f5df5429dcdfcaeab02cd215c26c77f2399e651c"
   }
  }
 },
 "nbformat": 4,
 "nbformat_minor": 2
}
